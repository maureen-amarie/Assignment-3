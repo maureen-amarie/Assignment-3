{
  "nbformat": 4,
  "nbformat_minor": 0,
  "metadata": {
    "colab": {
      "provenance": []
    },
    "kernelspec": {
      "name": "python3",
      "display_name": "Python 3"
    },
    "language_info": {
      "name": "python"
    }
  },
  "cells": [
    {
      "cell_type": "code",
      "source": [
        "!pip install faker                                                         #To install the faker library\n",
        "from faker import Faker                                                    #Imports the Faker library, which is used to generate fake names, emails, jobs, cities, etc.\n",
        "import pandas as pd                                                        #Imports the pandas library, which is used to store and manage data in a table-like format (DataFrame).\n",
        "import re                                                                  #Imports Python's built-in re module, used for regular expressions — useful for cleaning up the phone numbers.\n",
        "\n",
        "\n",
        "# Initialize Faker\n",
        "fake = Faker()                                                             #Creates a Faker instance. This object (fake) is used to generate fake data.\n",
        "\n",
        "\n",
        "# Number of records to generate\n",
        "num_records = 5                                                            #change this to generate more or fewer records\n",
        "\n",
        "# Generate data\n",
        "data = []                                                                  #Initializes an empty list to store each fake person's info.\n",
        "for _ in range(num_records):                                               #Starts a loop that runs num_records times (10 times in this case).\n",
        "    person = {                                                             #Inside the loop, a dictionary called person is created. Each field uses fake methods to generate fake: fullname,phone number(random format),email address, job title and city\n",
        "        \"Full Name\": fake.name(),\n",
        "        \"Phone Number\": fake.phone_number(),\n",
        "        \"Email Address\": fake.email(),\n",
        "        \"Job Title\": fake.job(),\n",
        "        \"City\": fake.city()\n",
        "    }\n",
        "    data.append(person)                                                    #Adds each person dictionary to the data list.\n",
        "\n",
        "\n",
        "\n",
        "# Function to clean phone numbers\n",
        "def clean_phone_number(phone):                                             #Defines a function called clean_phone_number():\n",
        "    digits = re.sub(r'\\D', '', phone)                                      #removes all characters except digits.\n",
        "    return digits[-11:] if len(digits) >= 11 else digits                   #Keep only last 11 digits\n",
        "\n",
        "# Convert to DataFrame for easy viewing/export\n",
        "df = pd.DataFrame(data)                                                    #Converts the data list into a DataFrame — a table-like structure that's easier to process and export.\n",
        "\n",
        "# Clean phone numbers\n",
        "df[\"Phone Number\"] = df[\"Phone Number\"].apply(clean_phone_number)          #Applies the clean_phone_number function to every value in the \"Phone Number\" column. This standardizes the format.\n",
        "\n",
        "# Display the DataFrame\n",
        "print(df)                                                                  #Prints the entire DataFrame with all fake records and cleaned phone numbers.\n",
        "\n",
        "df.to_csv(\"fake_data.csv\", index=False)                                    #Exports the cleaned data to a CSV file named fake_data.csv.index=False prevents pandas from saving the row numbers (0, 1, 2...) into the file.\n",
        "\n",
        "\n",
        "\n",
        "\n",
        "\n"
      ],
      "metadata": {
        "colab": {
          "base_uri": "https://localhost:8080/"
        },
        "id": "KZlzTH8qHZDt",
        "outputId": "aab00b7d-c425-46bc-f852-bf2d249d584a"
      },
      "execution_count": 21,
      "outputs": [
        {
          "output_type": "stream",
          "name": "stdout",
          "text": [
            "Requirement already satisfied: faker in /usr/local/lib/python3.11/dist-packages (37.4.0)\n",
            "Requirement already satisfied: tzdata in /usr/local/lib/python3.11/dist-packages (from faker) (2025.2)\n",
            "         Full Name Phone Number                 Email Address  \\\n",
            "0   Michael Martin   2794131283       tfitzgerald@example.net   \n",
            "1   April Robinson   5079761003     rachelsherman@example.com   \n",
            "2      Sara Murphy  14388774031        nancybrown@example.com   \n",
            "3     Shane Ramsey  18732723798          juancain@example.net   \n",
            "4  Theresa Ballard   4568225786  campbellcheyenne@example.org   \n",
            "\n",
            "                           Job Title              City  \n",
            "0  Special educational needs teacher        Deborahton  \n",
            "1                Seismic interpreter         East Lori  \n",
            "2                Visual merchandiser          New Dawn  \n",
            "3                          Mudlogger        Port Linda  \n",
            "4        Conservator, museum/gallery  New Theresaburgh  \n"
          ]
        }
      ]
    }
  ]
}